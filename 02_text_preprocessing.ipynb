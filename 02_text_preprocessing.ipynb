{
 "cells": [
  {
   "cell_type": "code",
   "execution_count": 14,
   "id": "ff08d0cc",
   "metadata": {},
   "outputs": [],
   "source": [
    "import pandas as pd"
   ]
  },
  {
   "cell_type": "code",
   "execution_count": 15,
   "id": "0c215e61",
   "metadata": {},
   "outputs": [
    {
     "data": {
      "text/plain": [
       "(60000, 11)"
      ]
     },
     "execution_count": 15,
     "metadata": {},
     "output_type": "execute_result"
    }
   ],
   "source": [
    "df = pd.read_csv('dataset/cleaned_reviews.csv')\n",
    "df.shape"
   ]
  },
  {
   "cell_type": "code",
   "execution_count": 16,
   "id": "2a12c43b",
   "metadata": {},
   "outputs": [
    {
     "data": {
      "text/plain": [
       "sentiment\n",
       "1    30000\n",
       "0    30000\n",
       "Name: count, dtype: int64"
      ]
     },
     "execution_count": 16,
     "metadata": {},
     "output_type": "execute_result"
    }
   ],
   "source": [
    "df['sentiment'].value_counts()"
   ]
  },
  {
   "cell_type": "code",
   "execution_count": null,
   "id": "e148f3c2",
   "metadata": {},
   "outputs": [],
   "source": []
  },
  {
   "cell_type": "markdown",
   "id": "42d1f93e",
   "metadata": {},
   "source": [
    "1. removing html tags(if exists)\n",
    "2. removing puntuations\n",
    "3. convert to lowercase\n",
    "4. Tokentization\n",
    "6. remove stopwords\n",
    "6. stemming and lemmatization"
   ]
  },
  {
   "cell_type": "code",
   "execution_count": 17,
   "id": "1e1b443b",
   "metadata": {},
   "outputs": [],
   "source": [
    "import re\n",
    "import string\n",
    "from nltk.tokenize import word_tokenize\n",
    "from nltk.corpus import stopwords\n",
    "from nltk.stem import WordNetLemmatizer\n",
    "\n",
    "stop_words = set(stopwords.words('english'))\n",
    "\n",
    "class SimpleCleaningHelper:\n",
    "    \"\"\"\n",
    "    My class defination for cleaning our review texts\n",
    "    \"\"\"\n",
    "    @classmethod\n",
    "    def clean_html(cls, sen):\n",
    "        \"\"\"\n",
    "        Takes our review text sentense as a input and removes html tags\n",
    "        \"\"\"\n",
    "        pattern = re.compile('<.*?>')\n",
    "        removed_text = re.sub(pattern, ' ', sen)\n",
    "        return removed_text\n",
    "    \n",
    "    @classmethod\n",
    "    def remove_puntuation(cls, sen):\n",
    "        s = sen.translate(str.maketrans('', '', string.punctuation))\n",
    "        return s\n",
    "    \n",
    "    @classmethod\n",
    "    def remove_repeated_letters(cls, sen):\n",
    "        pattern = r'\\b\\w*(\\w)\\1{2,}\\w*\\b'\n",
    "        cleaned_text = re.sub(pattern, '', sen)\n",
    "        return cleaned_text\n",
    "    \n",
    "        \n",
    "        \n",
    "        "
   ]
  },
  {
   "cell_type": "code",
   "execution_count": 18,
   "id": "6751b8f2",
   "metadata": {},
   "outputs": [],
   "source": [
    "lemmatizer = WordNetLemmatizer()\n",
    "def text_cleaning(text):\n",
    "    html_cleaned = SimpleCleaningHelper.clean_html(text)\n",
    "    rep_remove = SimpleCleaningHelper.remove_repeated_letters(html_cleaned)\n",
    "    puntuation_removed = SimpleCleaningHelper.remove_puntuation(rep_remove)\n",
    "    num_removed = re.sub(r'[0-9]', '', puntuation_removed)\n",
    "    tokens = word_tokenize(num_removed.lower())\n",
    "    tokens = [token for token in tokens if token not in stop_words]\n",
    "    tokens = [lemmatizer.lemmatize(token) for token in tokens]\n",
    "    cleaned_text = ' '.join(tokens)\n",
    "    return cleaned_text\n",
    "    "
   ]
  },
  {
   "cell_type": "code",
   "execution_count": 19,
   "id": "04166a31",
   "metadata": {},
   "outputs": [],
   "source": [
    "df['cleaned_text'] = df['Text'].apply(text_cleaning)"
   ]
  },
  {
   "cell_type": "code",
   "execution_count": 20,
   "id": "4dafb868",
   "metadata": {},
   "outputs": [],
   "source": [
    "df.to_csv('dataset/final_cleaned.csv', sep=\",\", index=None)"
   ]
  },
  {
   "cell_type": "code",
   "execution_count": null,
   "id": "c08ee908",
   "metadata": {},
   "outputs": [],
   "source": []
  },
  {
   "cell_type": "code",
   "execution_count": null,
   "id": "484a2ff4",
   "metadata": {},
   "outputs": [],
   "source": []
  }
 ],
 "metadata": {
  "kernelspec": {
   "display_name": "Python 3 (ipykernel)",
   "language": "python",
   "name": "python3"
  },
  "language_info": {
   "codemirror_mode": {
    "name": "ipython",
    "version": 3
   },
   "file_extension": ".py",
   "mimetype": "text/x-python",
   "name": "python",
   "nbconvert_exporter": "python",
   "pygments_lexer": "ipython3",
   "version": "3.11.5"
  }
 },
 "nbformat": 4,
 "nbformat_minor": 5
}
