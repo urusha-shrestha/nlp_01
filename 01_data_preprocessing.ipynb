{
 "cells": [
  {
   "cell_type": "markdown",
   "id": "63cff47e",
   "metadata": {},
   "source": [
    "### The dataset for this project is taken from : https://www.kaggle.com/datasets/snap/amazon-fine-food-reviews\n",
    "\n",
    "#### Description of the dataset\n",
    "\n",
    "* Reviews from Oct 1999 - Oct 2012\n",
    "* 568,454 reviews\n",
    "* 256,059 users\n",
    "* 74,258 products\n",
    "* 260 users with > 50 reviews\n",
    "\n",
    "#### Columns Description\n",
    "\n",
    "* ProductId   => Unique identifier for the product\n",
    "* UserId      => Unqiue identifier for the user\n",
    "* ProfileName => Profile name of the user\n",
    "* HelpfulnessNumerator   => Number of users who found the review helpful\n",
    "* HelpfulnessDenominator => Number of users who indicated whether they found the review helpful or not\n",
    "* Score    =>  Rating between 1 and 5\n",
    "* Time     => Timestamp for the review\n",
    "* Summary  => Brief summary of the review\n",
    "* Text     => Text of the review\n"
   ]
  },
  {
   "cell_type": "code",
   "execution_count": 1,
   "id": "0f05d478",
   "metadata": {},
   "outputs": [],
   "source": [
    "# importing essential libraries\n",
    "import numpy as np\n",
    "import pandas as pd\n",
    "import seaborn as sns"
   ]
  },
  {
   "cell_type": "code",
   "execution_count": 2,
   "id": "c61c71fd",
   "metadata": {},
   "outputs": [
    {
     "data": {
      "text/html": [
       "<div>\n",
       "<style scoped>\n",
       "    .dataframe tbody tr th:only-of-type {\n",
       "        vertical-align: middle;\n",
       "    }\n",
       "\n",
       "    .dataframe tbody tr th {\n",
       "        vertical-align: top;\n",
       "    }\n",
       "\n",
       "    .dataframe thead th {\n",
       "        text-align: right;\n",
       "    }\n",
       "</style>\n",
       "<table border=\"1\" class=\"dataframe\">\n",
       "  <thead>\n",
       "    <tr style=\"text-align: right;\">\n",
       "      <th></th>\n",
       "      <th>Id</th>\n",
       "      <th>ProductId</th>\n",
       "      <th>UserId</th>\n",
       "      <th>ProfileName</th>\n",
       "      <th>HelpfulnessNumerator</th>\n",
       "      <th>HelpfulnessDenominator</th>\n",
       "      <th>Score</th>\n",
       "      <th>Time</th>\n",
       "      <th>Summary</th>\n",
       "      <th>Text</th>\n",
       "    </tr>\n",
       "  </thead>\n",
       "  <tbody>\n",
       "    <tr>\n",
       "      <th>0</th>\n",
       "      <td>1</td>\n",
       "      <td>B001E4KFG0</td>\n",
       "      <td>A3SGXH7AUHU8GW</td>\n",
       "      <td>delmartian</td>\n",
       "      <td>1</td>\n",
       "      <td>1</td>\n",
       "      <td>5</td>\n",
       "      <td>1303862400</td>\n",
       "      <td>Good Quality Dog Food</td>\n",
       "      <td>I have bought several of the Vitality canned d...</td>\n",
       "    </tr>\n",
       "    <tr>\n",
       "      <th>1</th>\n",
       "      <td>2</td>\n",
       "      <td>B00813GRG4</td>\n",
       "      <td>A1D87F6ZCVE5NK</td>\n",
       "      <td>dll pa</td>\n",
       "      <td>0</td>\n",
       "      <td>0</td>\n",
       "      <td>1</td>\n",
       "      <td>1346976000</td>\n",
       "      <td>Not as Advertised</td>\n",
       "      <td>Product arrived labeled as Jumbo Salted Peanut...</td>\n",
       "    </tr>\n",
       "    <tr>\n",
       "      <th>2</th>\n",
       "      <td>3</td>\n",
       "      <td>B000LQOCH0</td>\n",
       "      <td>ABXLMWJIXXAIN</td>\n",
       "      <td>Natalia Corres \"Natalia Corres\"</td>\n",
       "      <td>1</td>\n",
       "      <td>1</td>\n",
       "      <td>4</td>\n",
       "      <td>1219017600</td>\n",
       "      <td>\"Delight\" says it all</td>\n",
       "      <td>This is a confection that has been around a fe...</td>\n",
       "    </tr>\n",
       "    <tr>\n",
       "      <th>3</th>\n",
       "      <td>4</td>\n",
       "      <td>B000UA0QIQ</td>\n",
       "      <td>A395BORC6FGVXV</td>\n",
       "      <td>Karl</td>\n",
       "      <td>3</td>\n",
       "      <td>3</td>\n",
       "      <td>2</td>\n",
       "      <td>1307923200</td>\n",
       "      <td>Cough Medicine</td>\n",
       "      <td>If you are looking for the secret ingredient i...</td>\n",
       "    </tr>\n",
       "    <tr>\n",
       "      <th>4</th>\n",
       "      <td>5</td>\n",
       "      <td>B006K2ZZ7K</td>\n",
       "      <td>A1UQRSCLF8GW1T</td>\n",
       "      <td>Michael D. Bigham \"M. Wassir\"</td>\n",
       "      <td>0</td>\n",
       "      <td>0</td>\n",
       "      <td>5</td>\n",
       "      <td>1350777600</td>\n",
       "      <td>Great taffy</td>\n",
       "      <td>Great taffy at a great price.  There was a wid...</td>\n",
       "    </tr>\n",
       "  </tbody>\n",
       "</table>\n",
       "</div>"
      ],
      "text/plain": [
       "   Id   ProductId          UserId                      ProfileName  \\\n",
       "0   1  B001E4KFG0  A3SGXH7AUHU8GW                       delmartian   \n",
       "1   2  B00813GRG4  A1D87F6ZCVE5NK                           dll pa   \n",
       "2   3  B000LQOCH0   ABXLMWJIXXAIN  Natalia Corres \"Natalia Corres\"   \n",
       "3   4  B000UA0QIQ  A395BORC6FGVXV                             Karl   \n",
       "4   5  B006K2ZZ7K  A1UQRSCLF8GW1T    Michael D. Bigham \"M. Wassir\"   \n",
       "\n",
       "   HelpfulnessNumerator  HelpfulnessDenominator  Score        Time  \\\n",
       "0                     1                       1      5  1303862400   \n",
       "1                     0                       0      1  1346976000   \n",
       "2                     1                       1      4  1219017600   \n",
       "3                     3                       3      2  1307923200   \n",
       "4                     0                       0      5  1350777600   \n",
       "\n",
       "                 Summary                                               Text  \n",
       "0  Good Quality Dog Food  I have bought several of the Vitality canned d...  \n",
       "1      Not as Advertised  Product arrived labeled as Jumbo Salted Peanut...  \n",
       "2  \"Delight\" says it all  This is a confection that has been around a fe...  \n",
       "3         Cough Medicine  If you are looking for the secret ingredient i...  \n",
       "4            Great taffy  Great taffy at a great price.  There was a wid...  "
      ]
     },
     "execution_count": 2,
     "metadata": {},
     "output_type": "execute_result"
    }
   ],
   "source": [
    "# loading data into dataframe and looking intp top 5 rows\n",
    "df = pd.read_csv('dataset/Reviews.csv')\n",
    "df.head()"
   ]
  },
  {
   "cell_type": "code",
   "execution_count": 3,
   "id": "91de4555",
   "metadata": {},
   "outputs": [
    {
     "data": {
      "text/plain": [
       "(568454, 10)"
      ]
     },
     "execution_count": 3,
     "metadata": {},
     "output_type": "execute_result"
    }
   ],
   "source": [
    "# nums of rows and cols of data\n",
    "df.shape"
   ]
  },
  {
   "cell_type": "code",
   "execution_count": 4,
   "id": "eb969881",
   "metadata": {},
   "outputs": [
    {
     "name": "stdout",
     "output_type": "stream",
     "text": [
      "<class 'pandas.core.frame.DataFrame'>\n",
      "RangeIndex: 568454 entries, 0 to 568453\n",
      "Data columns (total 10 columns):\n",
      " #   Column                  Non-Null Count   Dtype \n",
      "---  ------                  --------------   ----- \n",
      " 0   Id                      568454 non-null  int64 \n",
      " 1   ProductId               568454 non-null  object\n",
      " 2   UserId                  568454 non-null  object\n",
      " 3   ProfileName             568428 non-null  object\n",
      " 4   HelpfulnessNumerator    568454 non-null  int64 \n",
      " 5   HelpfulnessDenominator  568454 non-null  int64 \n",
      " 6   Score                   568454 non-null  int64 \n",
      " 7   Time                    568454 non-null  int64 \n",
      " 8   Summary                 568427 non-null  object\n",
      " 9   Text                    568454 non-null  object\n",
      "dtypes: int64(5), object(5)\n",
      "memory usage: 43.4+ MB\n"
     ]
    }
   ],
   "source": [
    "# Basic information of our dataset\n",
    "df.info()"
   ]
  },
  {
   "cell_type": "markdown",
   "id": "6301ad43",
   "metadata": {},
   "source": [
    "We can see there are some missing values in profile name and summary columns. To get how many values are missing in each\n",
    "columns we can use isna and sum"
   ]
  },
  {
   "cell_type": "code",
   "execution_count": 5,
   "id": "a98179b6",
   "metadata": {},
   "outputs": [
    {
     "data": {
      "text/plain": [
       "Id                         0\n",
       "ProductId                  0\n",
       "UserId                     0\n",
       "ProfileName               26\n",
       "HelpfulnessNumerator       0\n",
       "HelpfulnessDenominator     0\n",
       "Score                      0\n",
       "Time                       0\n",
       "Summary                   27\n",
       "Text                       0\n",
       "dtype: int64"
      ]
     },
     "execution_count": 5,
     "metadata": {},
     "output_type": "execute_result"
    }
   ],
   "source": [
    "# printing null counts\n",
    "df.isna().sum()"
   ]
  },
  {
   "cell_type": "markdown",
   "id": "c6cc97f4",
   "metadata": {},
   "source": [
    "# Data Cleaning"
   ]
  },
  {
   "cell_type": "markdown",
   "id": "b52e0ff7",
   "metadata": {},
   "source": [
    "Drop values with null as we have plenty of data"
   ]
  },
  {
   "cell_type": "code",
   "execution_count": 6,
   "id": "51c2a69c",
   "metadata": {},
   "outputs": [
    {
     "data": {
      "text/plain": [
       "(568401, 10)"
      ]
     },
     "execution_count": 6,
     "metadata": {},
     "output_type": "execute_result"
    }
   ],
   "source": [
    "df.dropna(inplace=True)\n",
    "df.shape"
   ]
  },
  {
   "cell_type": "code",
   "execution_count": 7,
   "id": "82599d02",
   "metadata": {},
   "outputs": [
    {
     "data": {
      "text/plain": [
       "Id                        0\n",
       "ProductId                 0\n",
       "UserId                    0\n",
       "ProfileName               0\n",
       "HelpfulnessNumerator      0\n",
       "HelpfulnessDenominator    0\n",
       "Score                     0\n",
       "Time                      0\n",
       "Summary                   0\n",
       "Text                      0\n",
       "dtype: int64"
      ]
     },
     "execution_count": 7,
     "metadata": {},
     "output_type": "execute_result"
    }
   ],
   "source": [
    "df.isna().sum()"
   ]
  },
  {
   "cell_type": "markdown",
   "id": "f3f407ba",
   "metadata": {},
   "source": [
    "Now we can see there are no missing values in our data.\n",
    "<hr>\n",
    "\n",
    "* HelpfulnessNumerator => Number of users who found the review helpful\n",
    "* HelpfulnessDenominator => Number of users who indicated whether they found the review helpful or not\n",
    "\n",
    "checking if there is more number in HelpfulnessNumerator than in HelpfulnessDenominator. If there is then the information is wrong."
   ]
  },
  {
   "cell_type": "code",
   "execution_count": 8,
   "id": "f2ff53ff",
   "metadata": {},
   "outputs": [
    {
     "data": {
      "text/html": [
       "<div>\n",
       "<style scoped>\n",
       "    .dataframe tbody tr th:only-of-type {\n",
       "        vertical-align: middle;\n",
       "    }\n",
       "\n",
       "    .dataframe tbody tr th {\n",
       "        vertical-align: top;\n",
       "    }\n",
       "\n",
       "    .dataframe thead th {\n",
       "        text-align: right;\n",
       "    }\n",
       "</style>\n",
       "<table border=\"1\" class=\"dataframe\">\n",
       "  <thead>\n",
       "    <tr style=\"text-align: right;\">\n",
       "      <th></th>\n",
       "      <th>Id</th>\n",
       "      <th>ProductId</th>\n",
       "      <th>UserId</th>\n",
       "      <th>ProfileName</th>\n",
       "      <th>HelpfulnessNumerator</th>\n",
       "      <th>HelpfulnessDenominator</th>\n",
       "      <th>Score</th>\n",
       "      <th>Time</th>\n",
       "      <th>Summary</th>\n",
       "      <th>Text</th>\n",
       "    </tr>\n",
       "  </thead>\n",
       "  <tbody>\n",
       "    <tr>\n",
       "      <th>44736</th>\n",
       "      <td>44737</td>\n",
       "      <td>B001EQ55RW</td>\n",
       "      <td>A2V0I904FH7ABY</td>\n",
       "      <td>Ram</td>\n",
       "      <td>3</td>\n",
       "      <td>2</td>\n",
       "      <td>4</td>\n",
       "      <td>1212883200</td>\n",
       "      <td>Pure cocoa taste with crunchy almonds inside</td>\n",
       "      <td>It was almost a 'love at first bite' - the per...</td>\n",
       "    </tr>\n",
       "    <tr>\n",
       "      <th>64421</th>\n",
       "      <td>64422</td>\n",
       "      <td>B000MIDROQ</td>\n",
       "      <td>A161DK06JJMCYF</td>\n",
       "      <td>J. E. Stephens \"Jeanne\"</td>\n",
       "      <td>3</td>\n",
       "      <td>1</td>\n",
       "      <td>5</td>\n",
       "      <td>1224892800</td>\n",
       "      <td>Bought This for My Son at College</td>\n",
       "      <td>My son loves spaghetti so I didn't hesitate or...</td>\n",
       "    </tr>\n",
       "  </tbody>\n",
       "</table>\n",
       "</div>"
      ],
      "text/plain": [
       "          Id   ProductId          UserId              ProfileName  \\\n",
       "44736  44737  B001EQ55RW  A2V0I904FH7ABY                      Ram   \n",
       "64421  64422  B000MIDROQ  A161DK06JJMCYF  J. E. Stephens \"Jeanne\"   \n",
       "\n",
       "       HelpfulnessNumerator  HelpfulnessDenominator  Score        Time  \\\n",
       "44736                     3                       2      4  1212883200   \n",
       "64421                     3                       1      5  1224892800   \n",
       "\n",
       "                                            Summary  \\\n",
       "44736  Pure cocoa taste with crunchy almonds inside   \n",
       "64421             Bought This for My Son at College   \n",
       "\n",
       "                                                    Text  \n",
       "44736  It was almost a 'love at first bite' - the per...  \n",
       "64421  My son loves spaghetti so I didn't hesitate or...  "
      ]
     },
     "execution_count": 8,
     "metadata": {},
     "output_type": "execute_result"
    }
   ],
   "source": [
    "df[df['HelpfulnessNumerator'] > df['HelpfulnessDenominator']]"
   ]
  },
  {
   "cell_type": "code",
   "execution_count": 9,
   "id": "cc67f150",
   "metadata": {},
   "outputs": [
    {
     "data": {
      "text/plain": [
       "(568399, 10)"
      ]
     },
     "execution_count": 9,
     "metadata": {},
     "output_type": "execute_result"
    }
   ],
   "source": [
    "# Only selecting the correct observation which has HelpfulnessNumerator less than or equal to HelpfulnessDenominator\n",
    "df = df[df['HelpfulnessNumerator'] <= df['HelpfulnessDenominator']]\n",
    "df.shape"
   ]
  },
  {
   "cell_type": "markdown",
   "id": "6e5a4569",
   "metadata": {},
   "source": [
    "### Checking for duplicate values"
   ]
  },
  {
   "cell_type": "code",
   "execution_count": 10,
   "id": "36f0e2ff",
   "metadata": {},
   "outputs": [],
   "source": [
    "#code to check if there are repeating values in given subset\n",
    "\n",
    "#df[df.duplicated(['UserId', 'ProfileName', 'Time', 'Summary', 'Text'])]"
   ]
  },
  {
   "cell_type": "code",
   "execution_count": 11,
   "id": "99917783",
   "metadata": {},
   "outputs": [
    {
     "data": {
      "text/plain": [
       "(393912, 10)"
      ]
     },
     "execution_count": 11,
     "metadata": {},
     "output_type": "execute_result"
    }
   ],
   "source": [
    "df = df.drop_duplicates(subset={\"UserId\", \"ProfileName\", \"Time\", \"Text\"}, keep=\"first\", inplace=False)\n",
    "df.shape"
   ]
  },
  {
   "cell_type": "markdown",
   "id": "7ab47efa",
   "metadata": {},
   "source": [
    "### converting \"score\" feature to positive or negetive"
   ]
  },
  {
   "cell_type": "code",
   "execution_count": 12,
   "id": "699ec5dc",
   "metadata": {},
   "outputs": [
    {
     "data": {
      "text/html": [
       "<div>\n",
       "<style scoped>\n",
       "    .dataframe tbody tr th:only-of-type {\n",
       "        vertical-align: middle;\n",
       "    }\n",
       "\n",
       "    .dataframe tbody tr th {\n",
       "        vertical-align: top;\n",
       "    }\n",
       "\n",
       "    .dataframe thead th {\n",
       "        text-align: right;\n",
       "    }\n",
       "</style>\n",
       "<table border=\"1\" class=\"dataframe\">\n",
       "  <thead>\n",
       "    <tr style=\"text-align: right;\">\n",
       "      <th></th>\n",
       "      <th>Id</th>\n",
       "      <th>ProductId</th>\n",
       "      <th>UserId</th>\n",
       "      <th>ProfileName</th>\n",
       "      <th>HelpfulnessNumerator</th>\n",
       "      <th>HelpfulnessDenominator</th>\n",
       "      <th>Time</th>\n",
       "      <th>Summary</th>\n",
       "      <th>Text</th>\n",
       "    </tr>\n",
       "    <tr>\n",
       "      <th>Score</th>\n",
       "      <th></th>\n",
       "      <th></th>\n",
       "      <th></th>\n",
       "      <th></th>\n",
       "      <th></th>\n",
       "      <th></th>\n",
       "      <th></th>\n",
       "      <th></th>\n",
       "      <th></th>\n",
       "    </tr>\n",
       "  </thead>\n",
       "  <tbody>\n",
       "    <tr>\n",
       "      <th>1</th>\n",
       "      <td>36303</td>\n",
       "      <td>36303</td>\n",
       "      <td>36303</td>\n",
       "      <td>36303</td>\n",
       "      <td>36303</td>\n",
       "      <td>36303</td>\n",
       "      <td>36303</td>\n",
       "      <td>36303</td>\n",
       "      <td>36303</td>\n",
       "    </tr>\n",
       "    <tr>\n",
       "      <th>2</th>\n",
       "      <td>20800</td>\n",
       "      <td>20800</td>\n",
       "      <td>20800</td>\n",
       "      <td>20800</td>\n",
       "      <td>20800</td>\n",
       "      <td>20800</td>\n",
       "      <td>20800</td>\n",
       "      <td>20800</td>\n",
       "      <td>20800</td>\n",
       "    </tr>\n",
       "    <tr>\n",
       "      <th>3</th>\n",
       "      <td>29767</td>\n",
       "      <td>29767</td>\n",
       "      <td>29767</td>\n",
       "      <td>29767</td>\n",
       "      <td>29767</td>\n",
       "      <td>29767</td>\n",
       "      <td>29767</td>\n",
       "      <td>29767</td>\n",
       "      <td>29767</td>\n",
       "    </tr>\n",
       "    <tr>\n",
       "      <th>4</th>\n",
       "      <td>56092</td>\n",
       "      <td>56092</td>\n",
       "      <td>56092</td>\n",
       "      <td>56092</td>\n",
       "      <td>56092</td>\n",
       "      <td>56092</td>\n",
       "      <td>56092</td>\n",
       "      <td>56092</td>\n",
       "      <td>56092</td>\n",
       "    </tr>\n",
       "    <tr>\n",
       "      <th>5</th>\n",
       "      <td>250950</td>\n",
       "      <td>250950</td>\n",
       "      <td>250950</td>\n",
       "      <td>250950</td>\n",
       "      <td>250950</td>\n",
       "      <td>250950</td>\n",
       "      <td>250950</td>\n",
       "      <td>250950</td>\n",
       "      <td>250950</td>\n",
       "    </tr>\n",
       "  </tbody>\n",
       "</table>\n",
       "</div>"
      ],
      "text/plain": [
       "           Id  ProductId  UserId  ProfileName  HelpfulnessNumerator  \\\n",
       "Score                                                                 \n",
       "1       36303      36303   36303        36303                 36303   \n",
       "2       20800      20800   20800        20800                 20800   \n",
       "3       29767      29767   29767        29767                 29767   \n",
       "4       56092      56092   56092        56092                 56092   \n",
       "5      250950     250950  250950       250950                250950   \n",
       "\n",
       "       HelpfulnessDenominator    Time  Summary    Text  \n",
       "Score                                                   \n",
       "1                       36303   36303    36303   36303  \n",
       "2                       20800   20800    20800   20800  \n",
       "3                       29767   29767    29767   29767  \n",
       "4                       56092   56092    56092   56092  \n",
       "5                      250950  250950   250950  250950  "
      ]
     },
     "execution_count": 12,
     "metadata": {},
     "output_type": "execute_result"
    }
   ],
   "source": [
    "df.groupby('Score').count()"
   ]
  },
  {
   "cell_type": "code",
   "execution_count": 13,
   "id": "13029e58",
   "metadata": {},
   "outputs": [
    {
     "data": {
      "text/plain": [
       "<Axes: xlabel='Score', ylabel='count'>"
      ]
     },
     "execution_count": 13,
     "metadata": {},
     "output_type": "execute_result"
    },
    {
     "data": {
      "image/png": "[encoded data removed]",
      "text/plain": [
       "<Figure size 640x480 with 1 Axes>"
      ]
     },
     "metadata": {},
     "output_type": "display_data"
    }
   ],
   "source": [
    "sns.countplot(df, x='Score')"
   ]
  },
  {
   "cell_type": "code",
   "execution_count": 14,
   "id": "4ae81eb1",
   "metadata": {},
   "outputs": [],
   "source": [
    "# classifing sebtiment as positive/1 if the score is greater than 3\n",
    "df['sentiment'] = df['Score'].apply(lambda x: 1 if x > 3 else 0)"
   ]
  },
  {
   "cell_type": "code",
   "execution_count": 15,
   "id": "959f67a2",
   "metadata": {},
   "outputs": [
    {
     "data": {
      "text/html": [
       "<div>\n",
       "<style scoped>\n",
       "    .dataframe tbody tr th:only-of-type {\n",
       "        vertical-align: middle;\n",
       "    }\n",
       "\n",
       "    .dataframe tbody tr th {\n",
       "        vertical-align: top;\n",
       "    }\n",
       "\n",
       "    .dataframe thead th {\n",
       "        text-align: right;\n",
       "    }\n",
       "</style>\n",
       "<table border=\"1\" class=\"dataframe\">\n",
       "  <thead>\n",
       "    <tr style=\"text-align: right;\">\n",
       "      <th></th>\n",
       "      <th>Id</th>\n",
       "      <th>ProductId</th>\n",
       "      <th>UserId</th>\n",
       "      <th>ProfileName</th>\n",
       "      <th>HelpfulnessNumerator</th>\n",
       "      <th>HelpfulnessDenominator</th>\n",
       "      <th>Score</th>\n",
       "      <th>Time</th>\n",
       "      <th>Summary</th>\n",
       "      <th>Text</th>\n",
       "    </tr>\n",
       "    <tr>\n",
       "      <th>sentiment</th>\n",
       "      <th></th>\n",
       "      <th></th>\n",
       "      <th></th>\n",
       "      <th></th>\n",
       "      <th></th>\n",
       "      <th></th>\n",
       "      <th></th>\n",
       "      <th></th>\n",
       "      <th></th>\n",
       "      <th></th>\n",
       "    </tr>\n",
       "  </thead>\n",
       "  <tbody>\n",
       "    <tr>\n",
       "      <th>0</th>\n",
       "      <td>86870</td>\n",
       "      <td>86870</td>\n",
       "      <td>86870</td>\n",
       "      <td>86870</td>\n",
       "      <td>86870</td>\n",
       "      <td>86870</td>\n",
       "      <td>86870</td>\n",
       "      <td>86870</td>\n",
       "      <td>86870</td>\n",
       "      <td>86870</td>\n",
       "    </tr>\n",
       "    <tr>\n",
       "      <th>1</th>\n",
       "      <td>307042</td>\n",
       "      <td>307042</td>\n",
       "      <td>307042</td>\n",
       "      <td>307042</td>\n",
       "      <td>307042</td>\n",
       "      <td>307042</td>\n",
       "      <td>307042</td>\n",
       "      <td>307042</td>\n",
       "      <td>307042</td>\n",
       "      <td>307042</td>\n",
       "    </tr>\n",
       "  </tbody>\n",
       "</table>\n",
       "</div>"
      ],
      "text/plain": [
       "               Id  ProductId  UserId  ProfileName  HelpfulnessNumerator  \\\n",
       "sentiment                                                                 \n",
       "0           86870      86870   86870        86870                 86870   \n",
       "1          307042     307042  307042       307042                307042   \n",
       "\n",
       "           HelpfulnessDenominator   Score    Time  Summary    Text  \n",
       "sentiment                                                           \n",
       "0                           86870   86870   86870    86870   86870  \n",
       "1                          307042  307042  307042   307042  307042  "
      ]
     },
     "execution_count": 15,
     "metadata": {},
     "output_type": "execute_result"
    }
   ],
   "source": [
    "df.groupby('sentiment').count()"
   ]
  },
  {
   "cell_type": "code",
   "execution_count": 16,
   "id": "6287eadb",
   "metadata": {},
   "outputs": [
    {
     "data": {
      "text/plain": [
       "<Axes: xlabel='sentiment', ylabel='count'>"
      ]
     },
     "execution_count": 16,
     "metadata": {},
     "output_type": "execute_result"
    },
    {
     "data": {
      "image/png": "[encoded data removed]",
      "text/plain": [
       "<Figure size 640x480 with 1 Axes>"
      ]
     },
     "metadata": {},
     "output_type": "display_data"
    }
   ],
   "source": [
    "sns.countplot(df, x='sentiment')"
   ]
  },
  {
   "cell_type": "code",
   "execution_count": 17,
   "id": "3fe2647d",
   "metadata": {},
   "outputs": [],
   "source": [
    "new_df = df[df['Score'] != 4]"
   ]
  },
  {
   "cell_type": "code",
   "execution_count": 18,
   "id": "a01c0009",
   "metadata": {},
   "outputs": [
    {
     "data": {
      "text/html": [
       "<div>\n",
       "<style scoped>\n",
       "    .dataframe tbody tr th:only-of-type {\n",
       "        vertical-align: middle;\n",
       "    }\n",
       "\n",
       "    .dataframe tbody tr th {\n",
       "        vertical-align: top;\n",
       "    }\n",
       "\n",
       "    .dataframe thead th {\n",
       "        text-align: right;\n",
       "    }\n",
       "</style>\n",
       "<table border=\"1\" class=\"dataframe\">\n",
       "  <thead>\n",
       "    <tr style=\"text-align: right;\">\n",
       "      <th></th>\n",
       "      <th>Id</th>\n",
       "      <th>ProductId</th>\n",
       "      <th>UserId</th>\n",
       "      <th>ProfileName</th>\n",
       "      <th>HelpfulnessNumerator</th>\n",
       "      <th>HelpfulnessDenominator</th>\n",
       "      <th>Score</th>\n",
       "      <th>Time</th>\n",
       "      <th>Summary</th>\n",
       "      <th>Text</th>\n",
       "    </tr>\n",
       "    <tr>\n",
       "      <th>sentiment</th>\n",
       "      <th></th>\n",
       "      <th></th>\n",
       "      <th></th>\n",
       "      <th></th>\n",
       "      <th></th>\n",
       "      <th></th>\n",
       "      <th></th>\n",
       "      <th></th>\n",
       "      <th></th>\n",
       "      <th></th>\n",
       "    </tr>\n",
       "  </thead>\n",
       "  <tbody>\n",
       "    <tr>\n",
       "      <th>0</th>\n",
       "      <td>86870</td>\n",
       "      <td>86870</td>\n",
       "      <td>86870</td>\n",
       "      <td>86870</td>\n",
       "      <td>86870</td>\n",
       "      <td>86870</td>\n",
       "      <td>86870</td>\n",
       "      <td>86870</td>\n",
       "      <td>86870</td>\n",
       "      <td>86870</td>\n",
       "    </tr>\n",
       "    <tr>\n",
       "      <th>1</th>\n",
       "      <td>250950</td>\n",
       "      <td>250950</td>\n",
       "      <td>250950</td>\n",
       "      <td>250950</td>\n",
       "      <td>250950</td>\n",
       "      <td>250950</td>\n",
       "      <td>250950</td>\n",
       "      <td>250950</td>\n",
       "      <td>250950</td>\n",
       "      <td>250950</td>\n",
       "    </tr>\n",
       "  </tbody>\n",
       "</table>\n",
       "</div>"
      ],
      "text/plain": [
       "               Id  ProductId  UserId  ProfileName  HelpfulnessNumerator  \\\n",
       "sentiment                                                                 \n",
       "0           86870      86870   86870        86870                 86870   \n",
       "1          250950     250950  250950       250950                250950   \n",
       "\n",
       "           HelpfulnessDenominator   Score    Time  Summary    Text  \n",
       "sentiment                                                           \n",
       "0                           86870   86870   86870    86870   86870  \n",
       "1                          250950  250950  250950   250950  250950  "
      ]
     },
     "execution_count": 18,
     "metadata": {},
     "output_type": "execute_result"
    }
   ],
   "source": [
    "new_df.groupby('sentiment').count()"
   ]
  },
  {
   "cell_type": "code",
   "execution_count": 19,
   "id": "a31a26a2",
   "metadata": {},
   "outputs": [
    {
     "data": {
      "text/plain": [
       "<Axes: xlabel='sentiment', ylabel='count'>"
      ]
     },
     "execution_count": 19,
     "metadata": {},
     "output_type": "execute_result"
    },
    {
     "data": {
      "image/png": "[encoded data removed]",
      "text/plain": [
       "<Figure size 640x480 with 1 Axes>"
      ]
     },
     "metadata": {},
     "output_type": "display_data"
    }
   ],
   "source": [
    "sns.countplot(new_df, x='sentiment')"
   ]
  },
  {
   "cell_type": "code",
   "execution_count": 20,
   "id": "206e5bd5",
   "metadata": {},
   "outputs": [
    {
     "data": {
      "text/html": [
       "<div>\n",
       "<style scoped>\n",
       "    .dataframe tbody tr th:only-of-type {\n",
       "        vertical-align: middle;\n",
       "    }\n",
       "\n",
       "    .dataframe tbody tr th {\n",
       "        vertical-align: top;\n",
       "    }\n",
       "\n",
       "    .dataframe thead th {\n",
       "        text-align: right;\n",
       "    }\n",
       "</style>\n",
       "<table border=\"1\" class=\"dataframe\">\n",
       "  <thead>\n",
       "    <tr style=\"text-align: right;\">\n",
       "      <th></th>\n",
       "      <th>Id</th>\n",
       "      <th>ProductId</th>\n",
       "      <th>UserId</th>\n",
       "      <th>ProfileName</th>\n",
       "      <th>HelpfulnessNumerator</th>\n",
       "      <th>HelpfulnessDenominator</th>\n",
       "      <th>Score</th>\n",
       "      <th>Time</th>\n",
       "      <th>Summary</th>\n",
       "      <th>Text</th>\n",
       "    </tr>\n",
       "    <tr>\n",
       "      <th>sentiment</th>\n",
       "      <th></th>\n",
       "      <th></th>\n",
       "      <th></th>\n",
       "      <th></th>\n",
       "      <th></th>\n",
       "      <th></th>\n",
       "      <th></th>\n",
       "      <th></th>\n",
       "      <th></th>\n",
       "      <th></th>\n",
       "    </tr>\n",
       "  </thead>\n",
       "  <tbody>\n",
       "    <tr>\n",
       "      <th>0</th>\n",
       "      <td>86870</td>\n",
       "      <td>86870</td>\n",
       "      <td>86870</td>\n",
       "      <td>86870</td>\n",
       "      <td>86870</td>\n",
       "      <td>86870</td>\n",
       "      <td>86870</td>\n",
       "      <td>86870</td>\n",
       "      <td>86870</td>\n",
       "      <td>86870</td>\n",
       "    </tr>\n",
       "    <tr>\n",
       "      <th>1</th>\n",
       "      <td>250950</td>\n",
       "      <td>250950</td>\n",
       "      <td>250950</td>\n",
       "      <td>250950</td>\n",
       "      <td>250950</td>\n",
       "      <td>250950</td>\n",
       "      <td>250950</td>\n",
       "      <td>250950</td>\n",
       "      <td>250950</td>\n",
       "      <td>250950</td>\n",
       "    </tr>\n",
       "  </tbody>\n",
       "</table>\n",
       "</div>"
      ],
      "text/plain": [
       "               Id  ProductId  UserId  ProfileName  HelpfulnessNumerator  \\\n",
       "sentiment                                                                 \n",
       "0           86870      86870   86870        86870                 86870   \n",
       "1          250950     250950  250950       250950                250950   \n",
       "\n",
       "           HelpfulnessDenominator   Score    Time  Summary    Text  \n",
       "sentiment                                                           \n",
       "0                           86870   86870   86870    86870   86870  \n",
       "1                          250950  250950  250950   250950  250950  "
      ]
     },
     "execution_count": 20,
     "metadata": {},
     "output_type": "execute_result"
    }
   ],
   "source": [
    "new_df.groupby('sentiment').count()"
   ]
  },
  {
   "cell_type": "code",
   "execution_count": 21,
   "id": "d4f5feed",
   "metadata": {},
   "outputs": [],
   "source": [
    "negetive_sentiment_df = new_df[new_df['sentiment'] == 0]\n",
    "negetive_sentiment_df = negetive_sentiment_df.sample(n=30000)\n",
    "positive_sentiment_df = new_df[new_df['sentiment'] == 1]\n",
    "positive_sentiment_df = positive_sentiment_df.sample(n=30000)"
   ]
  },
  {
   "cell_type": "code",
   "execution_count": 22,
   "id": "7ff659c5",
   "metadata": {},
   "outputs": [],
   "source": [
    "new_df = pd.concat([positive_sentiment_df, negetive_sentiment_df])"
   ]
  },
  {
   "cell_type": "code",
   "execution_count": 23,
   "id": "559e0fe8",
   "metadata": {},
   "outputs": [
    {
     "data": {
      "text/plain": [
       "<Axes: xlabel='sentiment', ylabel='count'>"
      ]
     },
     "execution_count": 23,
     "metadata": {},
     "output_type": "execute_result"
    },
    {
     "data": {
      "image/png": "[encoded data removed]",
      "text/plain": [
       "<Figure size 640x480 with 1 Axes>"
      ]
     },
     "metadata": {},
     "output_type": "display_data"
    }
   ],
   "source": [
    "sns.countplot(new_df, x='sentiment')"
   ]
  },
  {
   "cell_type": "code",
   "execution_count": 24,
   "id": "eaefa636",
   "metadata": {},
   "outputs": [],
   "source": [
    "# new_df.to_csv('dataset/cleaned_reviews.csv',sep=\",\", index=False)"
   ]
  }
 ],
 "metadata": {
  "kernelspec": {
   "display_name": "Python 3 (ipykernel)",
   "language": "python",
   "name": "python3"
  },
  "language_info": {
   "codemirror_mode": {
    "name": "ipython",
    "version": 3
   },
   "file_extension": ".py",
   "mimetype": "text/x-python",
   "name": "python",
   "nbconvert_exporter": "python",
   "pygments_lexer": "ipython3",
   "version": "3.11.5"
  }
 },
 "nbformat": 4,
 "nbformat_minor": 5
}
